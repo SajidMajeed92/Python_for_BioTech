{
 "cells": [
  {
   "cell_type": "code",
   "execution_count": 1,
   "id": "4123aa28",
   "metadata": {},
   "outputs": [
    {
     "name": "stdout",
     "output_type": "stream",
     "text": [
      "('sajid', 'Ahmed', 'Ali', 'sajid')\n"
     ]
    }
   ],
   "source": [
    "# List [],tuple(),dictinary{},set{}\n",
    "tuple_name = (\"sajid\",\"Ahmed\",\"Ali\",\"sajid\")\n",
    "print(tuple_name)"
   ]
  },
  {
   "cell_type": "code",
   "execution_count": 2,
   "id": "36aa1610",
   "metadata": {},
   "outputs": [
    {
     "data": {
      "text/plain": [
       "tuple"
      ]
     },
     "execution_count": 2,
     "metadata": {},
     "output_type": "execute_result"
    }
   ],
   "source": [
    "type(tuple_name)"
   ]
  },
  {
   "cell_type": "code",
   "execution_count": 3,
   "id": "35966803",
   "metadata": {},
   "outputs": [
    {
     "data": {
      "text/plain": [
       "2"
      ]
     },
     "execution_count": 3,
     "metadata": {},
     "output_type": "execute_result"
    }
   ],
   "source": [
    "tuple_name.count('sajid')"
   ]
  },
  {
   "cell_type": "code",
   "execution_count": 4,
   "id": "49fbc5da",
   "metadata": {},
   "outputs": [
    {
     "data": {
      "text/plain": [
       "('sajid', 'Ahmed', 'Ali', 'sajid')"
      ]
     },
     "execution_count": 4,
     "metadata": {},
     "output_type": "execute_result"
    }
   ],
   "source": [
    "tuple_name"
   ]
  },
  {
   "cell_type": "code",
   "execution_count": 5,
   "id": "6ea64370",
   "metadata": {},
   "outputs": [
    {
     "data": {
      "text/plain": [
       "2"
      ]
     },
     "execution_count": 5,
     "metadata": {},
     "output_type": "execute_result"
    }
   ],
   "source": [
    "tuple_name.index(\"Ali\")"
   ]
  },
  {
   "cell_type": "code",
   "execution_count": 6,
   "id": "2b6faae9",
   "metadata": {},
   "outputs": [],
   "source": [
    "tuple_last_name=(\"Majeed\",\"Asad\",\"Ali\")"
   ]
  },
  {
   "cell_type": "code",
   "execution_count": 7,
   "id": "43cbe6b8",
   "metadata": {},
   "outputs": [
    {
     "name": "stdout",
     "output_type": "stream",
     "text": [
      "('sajid', 'Ahmed', 'Ali', 'sajid', 'Majeed', 'Asad', 'Ali')\n"
     ]
    }
   ],
   "source": [
    "full_name = tuple_name+tuple_last_name\n",
    "print(full_name)"
   ]
  },
  {
   "cell_type": "code",
   "execution_count": 8,
   "id": "b25960fc",
   "metadata": {},
   "outputs": [],
   "source": [
    "no_1=(1,2,3,4)\n",
    "no_2=(6,7,8,9)\n",
    "sum= no_1+no_2"
   ]
  },
  {
   "cell_type": "code",
   "execution_count": 9,
   "id": "fa8677ae",
   "metadata": {},
   "outputs": [
    {
     "data": {
      "text/plain": [
       "(1, 2, 3, 4, 6, 7, 8, 9)"
      ]
     },
     "execution_count": 9,
     "metadata": {},
     "output_type": "execute_result"
    }
   ],
   "source": [
    "sum"
   ]
  },
  {
   "cell_type": "code",
   "execution_count": 10,
   "id": "6e55bf3b",
   "metadata": {},
   "outputs": [
    {
     "name": "stdout",
     "output_type": "stream",
     "text": [
      "1\n",
      "[2, 3, 7, 8]\n",
      "9\n"
     ]
    }
   ],
   "source": [
    "# unpacking a tuple\n",
    "a,*b,c =(1, 2, 3,7,8,9)\n",
    "print(a)\n",
    "print(b)\n",
    "print(c)"
   ]
  },
  {
   "cell_type": "code",
   "execution_count": 11,
   "id": "f6ff723b",
   "metadata": {},
   "outputs": [],
   "source": [
    "# key,value \n",
    "list1 = set()"
   ]
  },
  {
   "cell_type": "code",
   "execution_count": 12,
   "id": "c1ceac92",
   "metadata": {},
   "outputs": [
    {
     "data": {
      "text/plain": [
       "{1, 3, 4, 5, 6}"
      ]
     },
     "execution_count": 12,
     "metadata": {},
     "output_type": "execute_result"
    }
   ],
   "source": [
    "list1={1,3,4,5,6,5,6}\n",
    "list1"
   ]
  },
  {
   "cell_type": "code",
   "execution_count": 13,
   "id": "f62a692e",
   "metadata": {},
   "outputs": [
    {
     "data": {
      "text/plain": [
       "set"
      ]
     },
     "execution_count": 13,
     "metadata": {},
     "output_type": "execute_result"
    }
   ],
   "source": [
    "type(list1)"
   ]
  },
  {
   "cell_type": "code",
   "execution_count": 14,
   "id": "2420364f",
   "metadata": {},
   "outputs": [],
   "source": [
    "student={\n",
    "    'name':'sajid Majeed',\n",
    "    'gender':'Male',\n",
    "    'major_program':'Bioteach',\n",
    "    'university':'DUHS',\n",
    "    'address':\"Ojha Campus\",\n",
    "    'expertise':[\"Genomics\",\"Programming\",\"Molecular Biology\",\"Python\"],\n",
    "    'age':31\n",
    "}"
   ]
  },
  {
   "cell_type": "code",
   "execution_count": 15,
   "id": "9ffcc6ea",
   "metadata": {},
   "outputs": [
    {
     "name": "stdout",
     "output_type": "stream",
     "text": [
      "{'name': 'sajid Majeed', 'gender': 'Male', 'major_program': 'Bioteach', 'university': 'DUHS', 'address': 'Ojha Campus', 'expertise': ['Genomics', 'Programming', 'Molecular Biology', 'Python'], 'age': 31}\n"
     ]
    }
   ],
   "source": [
    "print(student)"
   ]
  },
  {
   "cell_type": "code",
   "execution_count": 16,
   "id": "37018dd8",
   "metadata": {},
   "outputs": [
    {
     "data": {
      "text/plain": [
       "dict_keys(['name', 'gender', 'major_program', 'university', 'address', 'expertise', 'age'])"
      ]
     },
     "execution_count": 16,
     "metadata": {},
     "output_type": "execute_result"
    }
   ],
   "source": [
    "student.keys()"
   ]
  },
  {
   "cell_type": "code",
   "execution_count": 17,
   "id": "71e2ef2e",
   "metadata": {},
   "outputs": [
    {
     "data": {
      "text/plain": [
       "dict_values(['sajid Majeed', 'Male', 'Bioteach', 'DUHS', 'Ojha Campus', ['Genomics', 'Programming', 'Molecular Biology', 'Python'], 31])"
      ]
     },
     "execution_count": 17,
     "metadata": {},
     "output_type": "execute_result"
    }
   ],
   "source": [
    "student.values()"
   ]
  },
  {
   "cell_type": "code",
   "execution_count": 18,
   "id": "7c00b7ae",
   "metadata": {},
   "outputs": [
    {
     "data": {
      "text/plain": [
       "dict_items([('name', 'sajid Majeed'), ('gender', 'Male'), ('major_program', 'Bioteach'), ('university', 'DUHS'), ('address', 'Ojha Campus'), ('expertise', ['Genomics', 'Programming', 'Molecular Biology', 'Python']), ('age', 31)])"
      ]
     },
     "execution_count": 18,
     "metadata": {},
     "output_type": "execute_result"
    }
   ],
   "source": [
    "student.items()"
   ]
  },
  {
   "cell_type": "code",
   "execution_count": 19,
   "id": "711bd2df",
   "metadata": {},
   "outputs": [
    {
     "data": {
      "text/plain": [
       "7"
      ]
     },
     "execution_count": 19,
     "metadata": {},
     "output_type": "execute_result"
    }
   ],
   "source": [
    "len(student)"
   ]
  },
  {
   "cell_type": "code",
   "execution_count": 20,
   "id": "14d50bfc",
   "metadata": {},
   "outputs": [
    {
     "data": {
      "text/plain": [
       "True"
      ]
     },
     "execution_count": 20,
     "metadata": {},
     "output_type": "execute_result"
    }
   ],
   "source": [
    "'name' in student"
   ]
  },
  {
   "cell_type": "code",
   "execution_count": 21,
   "id": "174e5244",
   "metadata": {},
   "outputs": [],
   "source": [
    "student['Specialization']=\"AI\""
   ]
  },
  {
   "cell_type": "code",
   "execution_count": 22,
   "id": "f9748671",
   "metadata": {},
   "outputs": [
    {
     "data": {
      "text/plain": [
       "{'name': 'sajid Majeed',\n",
       " 'gender': 'Male',\n",
       " 'major_program': 'Bioteach',\n",
       " 'university': 'DUHS',\n",
       " 'address': 'Ojha Campus',\n",
       " 'expertise': ['Genomics', 'Programming', 'Molecular Biology', 'Python'],\n",
       " 'age': 31,\n",
       " 'Specialization': 'AI'}"
      ]
     },
     "execution_count": 22,
     "metadata": {},
     "output_type": "execute_result"
    }
   ],
   "source": [
    "student"
   ]
  },
  {
   "cell_type": "code",
   "execution_count": 23,
   "id": "7e769771",
   "metadata": {},
   "outputs": [
    {
     "data": {
      "text/plain": [
       "31"
      ]
     },
     "execution_count": 23,
     "metadata": {},
     "output_type": "execute_result"
    }
   ],
   "source": [
    "student.get('age')"
   ]
  },
  {
   "cell_type": "code",
   "execution_count": 24,
   "id": "d77c3d60",
   "metadata": {},
   "outputs": [
    {
     "data": {
      "text/plain": [
       "'sajid Majeed'"
      ]
     },
     "execution_count": 24,
     "metadata": {},
     "output_type": "execute_result"
    }
   ],
   "source": [
    "student['name']"
   ]
  },
  {
   "cell_type": "code",
   "execution_count": 25,
   "id": "b5ffeece",
   "metadata": {},
   "outputs": [],
   "source": [
    "student['expertise'].append('Dignostic')"
   ]
  },
  {
   "cell_type": "code",
   "execution_count": 26,
   "id": "5e207602",
   "metadata": {},
   "outputs": [
    {
     "data": {
      "text/plain": [
       "{'name': 'sajid Majeed',\n",
       " 'gender': 'Male',\n",
       " 'major_program': 'Bioteach',\n",
       " 'university': 'DUHS',\n",
       " 'address': 'Ojha Campus',\n",
       " 'expertise': ['Genomics',\n",
       "  'Programming',\n",
       "  'Molecular Biology',\n",
       "  'Python',\n",
       "  'Dignostic'],\n",
       " 'age': 31,\n",
       " 'Specialization': 'AI'}"
      ]
     },
     "execution_count": 26,
     "metadata": {},
     "output_type": "execute_result"
    }
   ],
   "source": [
    "student"
   ]
  },
  {
   "cell_type": "code",
   "execution_count": 27,
   "id": "daf9eee5",
   "metadata": {},
   "outputs": [
    {
     "data": {
      "text/plain": [
       "{'name': 'sajid Majeed',\n",
       " 'gender': 'Male',\n",
       " 'major_program': 'Bioteach',\n",
       " 'university': 'DUHS',\n",
       " 'address': 'Ojha Campus',\n",
       " 'expertise': ['Genomics',\n",
       "  'Programming',\n",
       "  'Molecular Biology',\n",
       "  'Python',\n",
       "  'Dignostic'],\n",
       " 'age': 31,\n",
       " 'Specialization': 'AI'}"
      ]
     },
     "execution_count": 27,
     "metadata": {},
     "output_type": "execute_result"
    }
   ],
   "source": [
    "student"
   ]
  },
  {
   "cell_type": "code",
   "execution_count": 28,
   "id": "c783208d",
   "metadata": {},
   "outputs": [],
   "source": [
    "student['marks']={\"maths\":80,'bio':89}"
   ]
  },
  {
   "cell_type": "code",
   "execution_count": 29,
   "id": "9db48cdc",
   "metadata": {},
   "outputs": [
    {
     "data": {
      "text/plain": [
       "{'name': 'sajid Majeed',\n",
       " 'gender': 'Male',\n",
       " 'major_program': 'Bioteach',\n",
       " 'university': 'DUHS',\n",
       " 'address': 'Ojha Campus',\n",
       " 'expertise': ['Genomics',\n",
       "  'Programming',\n",
       "  'Molecular Biology',\n",
       "  'Python',\n",
       "  'Dignostic'],\n",
       " 'age': 31,\n",
       " 'Specialization': 'AI',\n",
       " 'marks': {'maths': 80, 'bio': 89}}"
      ]
     },
     "execution_count": 29,
     "metadata": {},
     "output_type": "execute_result"
    }
   ],
   "source": [
    "student"
   ]
  },
  {
   "cell_type": "code",
   "execution_count": 30,
   "id": "3259827b",
   "metadata": {},
   "outputs": [],
   "source": [
    "student['degree']=\"Mphil\""
   ]
  },
  {
   "cell_type": "code",
   "execution_count": 31,
   "id": "31d117ba",
   "metadata": {},
   "outputs": [
    {
     "data": {
      "text/plain": [
       "{'name': 'sajid Majeed',\n",
       " 'gender': 'Male',\n",
       " 'major_program': 'Bioteach',\n",
       " 'university': 'DUHS',\n",
       " 'address': 'Ojha Campus',\n",
       " 'expertise': ['Genomics',\n",
       "  'Programming',\n",
       "  'Molecular Biology',\n",
       "  'Python',\n",
       "  'Dignostic'],\n",
       " 'age': 31,\n",
       " 'Specialization': 'AI',\n",
       " 'marks': {'maths': 80, 'bio': 89},\n",
       " 'degree': 'Mphil'}"
      ]
     },
     "execution_count": 31,
     "metadata": {},
     "output_type": "execute_result"
    }
   ],
   "source": [
    "student"
   ]
  },
  {
   "cell_type": "code",
   "execution_count": 32,
   "id": "2415652f",
   "metadata": {},
   "outputs": [],
   "source": [
    "student['marks']['Dignostic']=90"
   ]
  },
  {
   "cell_type": "code",
   "execution_count": 33,
   "id": "f9ec2840",
   "metadata": {},
   "outputs": [
    {
     "data": {
      "text/plain": [
       "{'name': 'sajid Majeed',\n",
       " 'gender': 'Male',\n",
       " 'major_program': 'Bioteach',\n",
       " 'university': 'DUHS',\n",
       " 'address': 'Ojha Campus',\n",
       " 'expertise': ['Genomics',\n",
       "  'Programming',\n",
       "  'Molecular Biology',\n",
       "  'Python',\n",
       "  'Dignostic'],\n",
       " 'age': 31,\n",
       " 'Specialization': 'AI',\n",
       " 'marks': {'maths': 80, 'bio': 89, 'Dignostic': 90},\n",
       " 'degree': 'Mphil'}"
      ]
     },
     "execution_count": 33,
     "metadata": {},
     "output_type": "execute_result"
    }
   ],
   "source": [
    "student"
   ]
  },
  {
   "cell_type": "code",
   "execution_count": 34,
   "id": "c4486a7c",
   "metadata": {},
   "outputs": [],
   "source": [
    "student.update({'name':'Anisa'})\n",
    "student.update({'name1':'Ayesha'})"
   ]
  },
  {
   "cell_type": "code",
   "execution_count": 35,
   "id": "5cda0dbf",
   "metadata": {},
   "outputs": [
    {
     "data": {
      "text/plain": [
       "{'name': 'Anisa',\n",
       " 'gender': 'Male',\n",
       " 'major_program': 'Bioteach',\n",
       " 'university': 'DUHS',\n",
       " 'address': 'Ojha Campus',\n",
       " 'expertise': ['Genomics',\n",
       "  'Programming',\n",
       "  'Molecular Biology',\n",
       "  'Python',\n",
       "  'Dignostic'],\n",
       " 'age': 31,\n",
       " 'Specialization': 'AI',\n",
       " 'marks': {'maths': 80, 'bio': 89, 'Dignostic': 90},\n",
       " 'degree': 'Mphil',\n",
       " 'name1': 'Ayesha'}"
      ]
     },
     "execution_count": 35,
     "metadata": {},
     "output_type": "execute_result"
    }
   ],
   "source": [
    "student"
   ]
  },
  {
   "cell_type": "code",
   "execution_count": 37,
   "id": "2d45c443",
   "metadata": {},
   "outputs": [
    {
     "data": {
      "text/plain": [
       "False"
      ]
     },
     "execution_count": 37,
     "metadata": {},
     "output_type": "execute_result"
    }
   ],
   "source": [
    "'name2' in student"
   ]
  },
  {
   "cell_type": "code",
   "execution_count": null,
   "id": "c4cc1fff",
   "metadata": {},
   "outputs": [],
   "source": [
    "student."
   ]
  }
 ],
 "metadata": {
  "kernelspec": {
   "display_name": "Python 3",
   "language": "python",
   "name": "python3"
  },
  "language_info": {
   "codemirror_mode": {
    "name": "ipython",
    "version": 3
   },
   "file_extension": ".py",
   "mimetype": "text/x-python",
   "name": "python",
   "nbconvert_exporter": "python",
   "pygments_lexer": "ipython3",
   "version": "3.8.8"
  }
 },
 "nbformat": 4,
 "nbformat_minor": 5
}
