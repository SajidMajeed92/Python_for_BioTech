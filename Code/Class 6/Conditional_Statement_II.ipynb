{
  "nbformat": 4,
  "nbformat_minor": 0,
  "metadata": {
    "colab": {
      "provenance": []
    },
    "kernelspec": {
      "name": "python3",
      "display_name": "Python 3"
    },
    "language_info": {
      "name": "python"
    }
  },
  "cells": [
    {
      "cell_type": "code",
      "execution_count": 10,
      "metadata": {
        "colab": {
          "base_uri": "https://localhost:8080/"
        },
        "id": "ilqx41BFaNil",
        "outputId": "4826bcf3-41c5-4223-f268-c0adc6c82adc"
      },
      "outputs": [
        {
          "output_type": "stream",
          "name": "stdout",
          "text": [
            "Enter a Day today:Monday\n",
            "Lunch served on Monday is Biryani\n"
          ]
        }
      ],
      "source": [
        "# Lunch served in a Week days\n",
        "day=input(\"Enter a Day today:\")\n",
        "if day == \"Monday\" or day==\"monday\":\n",
        "  print(\"Lunch served on Monday is Biryani\")\n",
        "elif day == \"Tuesday\" or day==\"tuesday\":\n",
        "  print(\"Lunch served on Tuesday is Rice\")\n",
        "elif day == \"Wednesday\" or day==\"wednesday\":\n",
        "  print(\"Lunch served on Wednesday is Chicken\")\n",
        "elif day == \"Thursday\" or day==\"thursday\":\n",
        "  print(\"Lunch served on Thursday is Salad\")\n",
        "elif day == \"Friday\" or day==\"friday\":\n",
        "  print(\"Lunch served on Friday is Soup\")\n",
        "elif day == \"Saturday\" or day==\"saturday\":\n",
        "  print(\"Lunch served on Saturday is Salad\")\n",
        "elif day == \"Sunday\" or day==\"sunday\":\n",
        "  print(\"Lunch served on Sunday is Salad\")\n",
        "else:\n",
        "  (print(\"valid Day\"))"
      ]
    },
    {
      "cell_type": "code",
      "source": [
        "day=input(\"Enter a Day today:\")\n",
        "print(day)\n",
        "day = day.upper()\n",
        "print(day)\n",
        "if day==\"MONDAY\":\n",
        "  print(\"Lunch served on Monday is Biryani\")"
      ],
      "metadata": {
        "colab": {
          "base_uri": "https://localhost:8080/"
        },
        "id": "6hi5vKwIeobb",
        "outputId": "6fcceee0-e071-44ed-c442-94ce4b1c7094"
      },
      "execution_count": 13,
      "outputs": [
        {
          "output_type": "stream",
          "name": "stdout",
          "text": [
            "Enter a Day today:monday\n",
            "monday\n",
            "MONDAY\n",
            "Lunch served on Monday is Biryani\n"
          ]
        }
      ]
    },
    {
      "cell_type": "code",
      "source": [
        "# user_email and password  (email='abc@gmail.com,pass='12345')\n",
        "user_email = input(\"Enter your Email address:  \")\n",
        "if '@gmail.com'in user_email:\n",
        "  password = input (\"Enter your password: \")\n",
        "  if user_email == 'abc@gmail.com' and password =='12345':\n",
        "    print(\"Welcome to Dashboard\")\n",
        "  elif user_email == 'abc@gmail.com' and password !='12345':\n",
        "    print(\"Password is Incorrect.Re-Enter your password\")\n",
        "    password = input(\"Enter your password again:\")\n",
        "    if password=='12345':\n",
        "      print(\"Welcome to Dashboard in 2nd Attempt\")\n",
        "    else:\n",
        "      print(\"you account has been blocked\")\n",
        "  else:\n",
        "    print(\"Invalid Credentials\")\n",
        "else:\n",
        "  (print(\"Email is not valid\"))"
      ],
      "metadata": {
        "colab": {
          "base_uri": "https://localhost:8080/"
        },
        "id": "ir2dlJStfbsR",
        "outputId": "bf93cea1-d872-4d8f-c552-b89a873bf47e"
      },
      "execution_count": 25,
      "outputs": [
        {
          "output_type": "stream",
          "name": "stdout",
          "text": [
            "Enter your Email address:  abc@yahoo.com\n",
            "Email is not valid\n"
          ]
        }
      ]
    },
    {
      "cell_type": "code",
      "source": [
        "number1= int(input(\"Enter a number:\"))\n",
        "number2= int(input(\"Enter a number:\"))\n",
        "option = input('''\n",
        "1- Addition\n",
        "2-Substraction\n",
        "3-Multiplication\n",
        "4-Division\n",
        "5-Square\n",
        "''')\n",
        "if option == '1':\n",
        "  print(\"The sum of \",number1,\"and\",number2,\"is\",number1+number2)\n",
        "elif option == '2':\n",
        "  print(\"The difference of \",number1,\"and\",number2,\"is\",number1-number2)\n",
        "elif option == '3':\n",
        "  print(\"The product of \",number1,\"and\",number2,\"is\",number1*number2)\n",
        "elif option == '4':\n",
        "  print(\"The division of \",number1,\"and\",number2,\"is\",number1/number2)\n",
        "else:\n",
        "  print(\"Invalid option\")"
      ],
      "metadata": {
        "colab": {
          "base_uri": "https://localhost:8080/"
        },
        "id": "oi9-Fm8Ci2wj",
        "outputId": "24c5e985-a4f8-4d77-bf2e-410cce0779b9"
      },
      "execution_count": 3,
      "outputs": [
        {
          "output_type": "stream",
          "name": "stdout",
          "text": [
            "Enter a number:67\n",
            "Enter a number:78\n",
            "\n",
            "1- Addition\n",
            "2-Substraction\n",
            "3-Multiplication\n",
            "4-Division\n",
            "5-Square\n",
            "4\n",
            "The division of  67 and 78 is 0.8589743589743589\n"
          ]
        }
      ]
    },
    {
      "cell_type": "code",
      "source": [],
      "metadata": {
        "id": "STB2N5mxsTqI"
      },
      "execution_count": null,
      "outputs": []
    }
  ]
}