{
 "cells": [
  {
   "cell_type": "code",
   "execution_count": 1,
   "id": "f67af0c9",
   "metadata": {},
   "outputs": [
    {
     "name": "stdout",
     "output_type": "stream",
     "text": [
      "Welcome to python class\n"
     ]
    }
   ],
   "source": [
    "print(\"Welcome to python class\")"
   ]
  },
  {
   "cell_type": "code",
   "execution_count": 1,
   "id": "10050412",
   "metadata": {},
   "outputs": [
    {
     "name": "stdout",
     "output_type": "stream",
     "text": [
      "Sajid\n",
      "Majeed\n",
      "Sajid Majeed\n"
     ]
    }
   ],
   "source": [
    "first_name = \"Sajid\"\n",
    "Last_name = \"Majeed\"\n",
    "print(first_name)\n",
    "print(Last_name)\n",
    "print(first_name,Last_name)"
   ]
  },
  {
   "cell_type": "code",
   "execution_count": 2,
   "id": "b6a77e0c",
   "metadata": {},
   "outputs": [
    {
     "name": "stdout",
     "output_type": "stream",
     "text": [
      "<class 'str'>\n"
     ]
    }
   ],
   "source": [
    "print(type(first_name))"
   ]
  },
  {
   "cell_type": "code",
   "execution_count": 1,
   "id": "1f0f56a7",
   "metadata": {},
   "outputs": [
    {
     "name": "stdout",
     "output_type": "stream",
     "text": [
      "<class 'int'>\n",
      "<class 'float'>\n"
     ]
    }
   ],
   "source": [
    "num1= 89\n",
    "num2=45.5\n",
    "print(type(num1))\n",
    "print(type(num2))"
   ]
  },
  {
   "cell_type": "code",
   "execution_count": 2,
   "id": "a961bc13",
   "metadata": {},
   "outputs": [
    {
     "name": "stdout",
     "output_type": "stream",
     "text": [
      "89\n",
      "89.0\n",
      "<class 'float'>\n"
     ]
    }
   ],
   "source": [
    "print(num1)\n",
    "num1=float(num1)\n",
    "print(num1)\n",
    "print(type(num1))"
   ]
  },
  {
   "cell_type": "code",
   "execution_count": 10,
   "id": "6e29d029",
   "metadata": {},
   "outputs": [
    {
     "name": "stdout",
     "output_type": "stream",
     "text": [
      "121\n",
      "<class 'int'>\n"
     ]
    }
   ],
   "source": [
    "num1='121'\n",
    "num1= int(num1)\n",
    "print(num1)\n",
    "print(type(num1))"
   ]
  },
  {
   "cell_type": "code",
   "execution_count": 6,
   "id": "f9f4798b",
   "metadata": {},
   "outputs": [
    {
     "data": {
      "text/plain": [
       "'22'"
      ]
     },
     "execution_count": 6,
     "metadata": {},
     "output_type": "execute_result"
    }
   ],
   "source": [
    "'2'+'2'"
   ]
  },
  {
   "cell_type": "markdown",
   "id": "6ca92036",
   "metadata": {},
   "source": [
    "# Arithmetic Operators (+,-,*,/)"
   ]
  },
  {
   "cell_type": "code",
   "execution_count": 20,
   "id": "914ab281",
   "metadata": {},
   "outputs": [
    {
     "name": "stdout",
     "output_type": "stream",
     "text": [
      "The sum of 67 and 70 is 137\n",
      "The Difference of 67 and 70 is -3\n",
      "The Product of 67 and 70 is 4690\n",
      "The Division of 67 and 70 is 0.957\n"
     ]
    }
   ],
   "source": [
    "num1=67\n",
    "num2=70\n",
    "sum = num1+num2\n",
    "difference = num1 -num2\n",
    "product = num1 * num2\n",
    "division = round(num1/num2,3)\n",
    "print('The sum of',num1,'and',num2,'is',sum)\n",
    "print('The Difference of',num1,'and',num2,'is',difference)\n",
    "print('The Product of',num1,'and',num2,'is',product)\n",
    "print('The Division of',num1,'and',num2,'is',division)"
   ]
  },
  {
   "cell_type": "code",
   "execution_count": 24,
   "id": "639ccad8",
   "metadata": {},
   "outputs": [
    {
     "name": "stdout",
     "output_type": "stream",
     "text": [
      "sajid\n"
     ]
    },
    {
     "data": {
      "text/plain": [
       "'sajid'"
      ]
     },
     "execution_count": 24,
     "metadata": {},
     "output_type": "execute_result"
    }
   ],
   "source": [
    "input()"
   ]
  },
  {
   "cell_type": "code",
   "execution_count": 2,
   "id": "d35806b1",
   "metadata": {},
   "outputs": [],
   "source": [
    "name = 'Ahmed'\n",
    "age =34"
   ]
  },
  {
   "cell_type": "code",
   "execution_count": 5,
   "id": "f33c5aab",
   "metadata": {},
   "outputs": [
    {
     "name": "stdout",
     "output_type": "stream",
     "text": [
      "Enter your Name: Ali\n",
      "Enter your Age: 33\n",
      "Ali\n",
      "33.0\n",
      "<class 'str'>\n",
      "<class 'float'>\n"
     ]
    }
   ],
   "source": [
    "name = input(\"Enter your Name: \")\n",
    "age = float(input(\"Enter your Age: \"))\n",
    "print(name)\n",
    "print(age)\n",
    "print(type(name))\n",
    "print(type(age))"
   ]
  },
  {
   "cell_type": "code",
   "execution_count": 18,
   "id": "7a77a524",
   "metadata": {},
   "outputs": [
    {
     "name": "stdout",
     "output_type": "stream",
     "text": [
      "Enter Mass Value: 72\n",
      "Enter Acc Value: 20.8\n",
      "The force is 1497.6\n"
     ]
    }
   ],
   "source": [
    "# force = ? mass = 72 acc = 20.8 => f=ma\n",
    "mass = float(input(\"Enter Mass Value: \"))\n",
    "acc = float(input(\"Enter Acc Value: \"))\n",
    "force =  mass * acc\n",
    "print(\"The force is\",round(force,2))"
   ]
  },
  {
   "cell_type": "code",
   "execution_count": 17,
   "id": "33abb3b9",
   "metadata": {},
   "outputs": [
    {
     "name": "stdout",
     "output_type": "stream",
     "text": [
      "Hello Pakistan\n"
     ]
    }
   ],
   "source": [
    "a='Pakistan'\n",
    "b='Hello'\n",
    "print(b+' '+a)"
   ]
  },
  {
   "cell_type": "code",
   "execution_count": 43,
   "id": "b36e6045",
   "metadata": {},
   "outputs": [
    {
     "data": {
      "text/plain": [
       "58"
      ]
     },
     "execution_count": 43,
     "metadata": {},
     "output_type": "execute_result"
    }
   ],
   "source": [
    "DNA='ATCGATCGATCGATCGATCGATCGACGACGATCGATCGATCGATCGATCGATCGATCG'\n",
    "len(DNA)"
   ]
  },
  {
   "cell_type": "code",
   "execution_count": 44,
   "id": "8fa89409",
   "metadata": {},
   "outputs": [],
   "source": [
    "gt= DNA.count('GAT') "
   ]
  },
  {
   "cell_type": "code",
   "execution_count": 45,
   "id": "61c28e7f",
   "metadata": {},
   "outputs": [
    {
     "name": "stdout",
     "output_type": "stream",
     "text": [
      "Orignal: AGTCAGTCGTACGTAGTA\n",
      "updated agtcagtcgtacgtagta\n"
     ]
    },
    {
     "data": {
      "text/plain": [
       "'agtcagtcgtacgtagta'"
      ]
     },
     "execution_count": 45,
     "metadata": {},
     "output_type": "execute_result"
    }
   ],
   "source": [
    "DNA1='agtcagtcgtacgtagta'\n",
    "DNA2=DNA1.upper()\n",
    "print(\"Orignal:\",DNA2)\n",
    "print(\"updated\",DNA1)\n",
    "DNA2.lower()"
   ]
  },
  {
   "cell_type": "code",
   "execution_count": 46,
   "id": "9b92941d",
   "metadata": {},
   "outputs": [],
   "source": [
    "total_DNA_Length= len(DNA)\n",
    "count_of_G=DNA.count('G')\n",
    "perentage_of_G = (count_of_G/total_DNA_Length)*100\n",
    "print(perentage_of_G)"
   ]
  },
  {
   "cell_type": "code",
   "execution_count": 54,
   "id": "1fd29128",
   "metadata": {},
   "outputs": [
    {
     "name": "stdout",
     "output_type": "stream",
     "text": [
      "Total length of DNA 58\n",
      "GT present in DNA 28\n",
      "48.275862068965516\n"
     ]
    }
   ],
   "source": [
    "total_DNA_Length= len(DNA)\n",
    "count_of_GT=DNA.count('G')+DNA.count('T')\n",
    "print(\"Total length of DNA\",total_DNA_Length)\n",
    "print(\"GT present in DNA\",count_of_GT)\n",
    "perentage_of_GT = (count_of_GT/total_DNA_Length)*100\n",
    "print(perentage_of_GT)"
   ]
  },
  {
   "cell_type": "code",
   "execution_count": null,
   "id": "03a78c9b",
   "metadata": {},
   "outputs": [],
   "source": []
  }
 ],
 "metadata": {
  "kernelspec": {
   "display_name": "Python 3",
   "language": "python",
   "name": "python3"
  },
  "language_info": {
   "codemirror_mode": {
    "name": "ipython",
    "version": 3
   },
   "file_extension": ".py",
   "mimetype": "text/x-python",
   "name": "python",
   "nbconvert_exporter": "python",
   "pygments_lexer": "ipython3",
   "version": "3.8.8"
  }
 },
 "nbformat": 4,
 "nbformat_minor": 5
}
