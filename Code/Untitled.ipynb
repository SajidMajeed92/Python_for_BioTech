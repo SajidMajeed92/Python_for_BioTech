{
 "cells": [
  {
   "cell_type": "code",
   "execution_count": null,
   "id": "a4165a88-e40d-4960-a98f-33c4160c95ee",
   "metadata": {},
   "outputs": [],
   "source": []
  }
 ],
 "metadata": {
  "kernelspec": {
   "display_name": "",
   "name": ""
  },
  "language_info": {
   "name": ""
  }
 },
 "nbformat": 4,
 "nbformat_minor": 5
}
