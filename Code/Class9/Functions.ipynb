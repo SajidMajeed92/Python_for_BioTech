{
 "cells": [
  {
   "cell_type": "code",
   "execution_count": 1,
   "id": "81df13c1",
   "metadata": {},
   "outputs": [],
   "source": [
    "# Block of Code "
   ]
  },
  {
   "cell_type": "code",
   "execution_count": 9,
   "id": "e7d4a29d",
   "metadata": {},
   "outputs": [
    {
     "name": "stdout",
     "output_type": "stream",
     "text": [
      "outside from function body\n"
     ]
    }
   ],
   "source": [
    "# Keyword \n",
    "def greet():\n",
    "    print('Hello World!')\n",
    "    print('Hello World!')\n",
    "    print('Hello World!')\n",
    "print(\"outside from function body\")"
   ]
  },
  {
   "cell_type": "code",
   "execution_count": 10,
   "id": "7f0d20f9",
   "metadata": {},
   "outputs": [
    {
     "name": "stdout",
     "output_type": "stream",
     "text": [
      "Hello World!\n",
      "Hello World!\n",
      "Hello World!\n"
     ]
    }
   ],
   "source": [
    "greet()"
   ]
  },
  {
   "cell_type": "code",
   "execution_count": 15,
   "id": "56e567c4",
   "metadata": {},
   "outputs": [
    {
     "name": "stdout",
     "output_type": "stream",
     "text": [
      "Hello Ali\n"
     ]
    }
   ],
   "source": [
    "def hello(user):\n",
    "    print(\"Hello\",user)\n",
    "hello(\"Ali\")"
   ]
  },
  {
   "cell_type": "code",
   "execution_count": 21,
   "id": "543de048",
   "metadata": {},
   "outputs": [],
   "source": [
    "def hello(fname,lname):\n",
    "    print(\"Fname\",fname)\n",
    "    print(\"Lname\",lname)"
   ]
  },
  {
   "cell_type": "code",
   "execution_count": 22,
   "id": "836386ab",
   "metadata": {},
   "outputs": [
    {
     "name": "stdout",
     "output_type": "stream",
     "text": [
      "Enter your First Name: Sajid\n",
      "Enter your Last Name: Majeed\n",
      "Fname Sajid\n",
      "Lname Majeed\n"
     ]
    }
   ],
   "source": [
    "fname = input(\"Enter your First Name: \")\n",
    "lname = input(\"Enter your Last Name: \")\n",
    "\n",
    "hello(fname,lname)"
   ]
  },
  {
   "cell_type": "code",
   "execution_count": 37,
   "id": "81752c40",
   "metadata": {},
   "outputs": [],
   "source": [
    "def sum(num1,num2):\n",
    "    add = num1+num2\n",
    "    avg = (num1+num2)/2\n",
    "    prod = num1*num2\n",
    "    return add,avg,prod"
   ]
  },
  {
   "cell_type": "code",
   "execution_count": 38,
   "id": "8b0f071a",
   "metadata": {},
   "outputs": [
    {
     "name": "stdout",
     "output_type": "stream",
     "text": [
      "Enter your No30\n",
      "Enter your No40\n"
     ]
    },
    {
     "data": {
      "text/plain": [
       "(70, 35.0, 1200)"
      ]
     },
     "execution_count": 38,
     "metadata": {},
     "output_type": "execute_result"
    }
   ],
   "source": [
    "num1 = int(input(\"Enter your No\"))\n",
    "num2 = int(input(\"Enter your No\"))\n",
    "sum(num1,num2)"
   ]
  },
  {
   "cell_type": "code",
   "execution_count": 39,
   "id": "0cbf5663",
   "metadata": {},
   "outputs": [
    {
     "name": "stdout",
     "output_type": "stream",
     "text": [
      "Enter your No40\n",
      "Enter your No50\n"
     ]
    },
    {
     "data": {
      "text/plain": [
       "(90, 45.0, 2000)"
      ]
     },
     "execution_count": 39,
     "metadata": {},
     "output_type": "execute_result"
    }
   ],
   "source": [
    "num1 = int(input(\"Enter your No\"))\n",
    "num2 = int(input(\"Enter your No\"))\n",
    "sum(num1,num2)"
   ]
  },
  {
   "cell_type": "code",
   "execution_count": 44,
   "id": "af1a3697",
   "metadata": {},
   "outputs": [
    {
     "name": "stdout",
     "output_type": "stream",
     "text": [
      "Enter your No34\n",
      "Enter your No45\n",
      "(79, 39.5, 1530)\n",
      "Enter your No56\n",
      "Enter your No67\n",
      "(123, 61.5, 3752)\n",
      "Enter your No56\n",
      "Enter your No78\n",
      "(134, 67.0, 4368)\n"
     ]
    }
   ],
   "source": [
    "def sum(num1,num2):\n",
    "    add = num1+num2\n",
    "    avg = (num1+num2)/2\n",
    "    prod = num1*num2\n",
    "    return add,avg,prod\n",
    "\n",
    "for i in range(3):\n",
    "    num1 = int(input(\"Enter your No\"))\n",
    "    num2 = int(input(\"Enter your No\"))\n",
    "    print(sum(num1,num2))  "
   ]
  },
  {
   "cell_type": "code",
   "execution_count": 45,
   "id": "6077d321",
   "metadata": {},
   "outputs": [
    {
     "name": "stdout",
     "output_type": "stream",
     "text": [
      "Enter your No1\n",
      "Enter your No2\n",
      "Enter your No3\n",
      "Enter your No4\n",
      "Enter your No5\n",
      "120\n"
     ]
    }
   ],
   "source": [
    "def prod(num1,num2,num3,num4,num5):\n",
    "    return num1*num2*num3*num4*num5\n",
    "\n",
    "for i in range(1):\n",
    "    num1 = int(input(\"Enter your No\"))\n",
    "    num2 = int(input(\"Enter your No\"))\n",
    "    num3 = int(input(\"Enter your No\"))\n",
    "    num4 = int(input(\"Enter your No\"))\n",
    "    num5 = int(input(\"Enter your No\"))\n",
    "    print(prod(num1,num2,num3,num4,num5))  "
   ]
  },
  {
   "cell_type": "code",
   "execution_count": 46,
   "id": "56e69244",
   "metadata": {},
   "outputs": [],
   "source": [
    "def square_cube(num):\n",
    "    sq = num**2\n",
    "    cube = num**3\n",
    "    return num,sq,cube"
   ]
  },
  {
   "cell_type": "code",
   "execution_count": 47,
   "id": "875f774c",
   "metadata": {},
   "outputs": [
    {
     "name": "stdout",
     "output_type": "stream",
     "text": [
      "Enter a number: 2\n"
     ]
    },
    {
     "data": {
      "text/plain": [
       "(2, 4, 8)"
      ]
     },
     "execution_count": 47,
     "metadata": {},
     "output_type": "execute_result"
    }
   ],
   "source": [
    "num  = int(input (\"Enter a number: \"))\n",
    "square_cube(num)"
   ]
  },
  {
   "cell_type": "code",
   "execution_count": null,
   "id": "9a952cbb",
   "metadata": {},
   "outputs": [],
   "source": [
    "num = [2,3,4,5]\n",
    "sq_list = [4,9,16,25]"
   ]
  },
  {
   "cell_type": "code",
   "execution_count": 57,
   "id": "88586c76",
   "metadata": {},
   "outputs": [
    {
     "name": "stdout",
     "output_type": "stream",
     "text": [
      "[1, 4, 9, 16]\n"
     ]
    },
    {
     "data": {
      "text/plain": [
       "[1, 8, 27, 64]"
      ]
     },
     "execution_count": 57,
     "metadata": {},
     "output_type": "execute_result"
    }
   ],
   "source": [
    "num = [1,2,3,4]\n",
    "print([x**2 for x in num])\n",
    "[x**3 for x in num]"
   ]
  },
  {
   "cell_type": "code",
   "execution_count": 58,
   "id": "3cb0d6e3",
   "metadata": {},
   "outputs": [
    {
     "data": {
      "text/plain": [
       "[4, 9, 16, 25]"
      ]
     },
     "execution_count": 58,
     "metadata": {},
     "output_type": "execute_result"
    }
   ],
   "source": [
    "def sq_list(input_list):\n",
    "    return [x**2 for x in input_list]\n",
    "    \n",
    "input_list = [2,3,4,5]\n",
    "sq_list(input_list)"
   ]
  },
  {
   "cell_type": "code",
   "execution_count": 66,
   "id": "0a8bc70a",
   "metadata": {},
   "outputs": [
    {
     "data": {
      "text/plain": [
       "[1, 2, 3, 4]"
      ]
     },
     "execution_count": 66,
     "metadata": {},
     "output_type": "execute_result"
    }
   ],
   "source": [
    "list= [1,2,3,4]\n",
    "[x for x in list]"
   ]
  },
  {
   "cell_type": "code",
   "execution_count": 80,
   "id": "09408296",
   "metadata": {},
   "outputs": [
    {
     "name": "stdout",
     "output_type": "stream",
     "text": [
      "10\n"
     ]
    }
   ],
   "source": [
    "sum=0\n",
    "for i in list:\n",
    "    sum=sum+i\n",
    "print(sum)"
   ]
  },
  {
   "cell_type": "code",
   "execution_count": null,
   "id": "08fbd351",
   "metadata": {},
   "outputs": [],
   "source": []
  }
 ],
 "metadata": {
  "kernelspec": {
   "display_name": "Python 3",
   "language": "python",
   "name": "python3"
  },
  "language_info": {
   "codemirror_mode": {
    "name": "ipython",
    "version": 3
   },
   "file_extension": ".py",
   "mimetype": "text/x-python",
   "name": "python",
   "nbconvert_exporter": "python",
   "pygments_lexer": "ipython3",
   "version": "3.8.8"
  }
 },
 "nbformat": 4,
 "nbformat_minor": 5
}
