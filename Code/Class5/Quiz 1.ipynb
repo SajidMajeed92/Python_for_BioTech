{
 "cells": [
  {
   "cell_type": "raw",
   "id": "b1fd4acf",
   "metadata": {},
   "source": [
    "Consider the dna sequence, AGTTAGCTAGGAG\n",
    "How many nucleotides are present?\n",
    "Calculate the percentage GC in the sequence.(Try to round the result till 2 decimal places)\n",
    "How many purines are present?\n",
    "How many pyrimidines are present?\n",
    "Calculate the percentage of purines in the sequence"
   ]
  },
  {
   "cell_type": "raw",
   "id": "adad139b",
   "metadata": {},
   "source": [
    "Consider the dna sequence, AGTTAGCTAGGAGGCTAG\n",
    "How many nucleotides are present?\n",
    "Calculate the percentage GC in the sequence.(Try to round the result till 2 decimal places)\n",
    "How many purines are present?\n",
    "How many pyrimidines are present?\n",
    "Calculate the percentage of purines in the sequence"
   ]
  },
  {
   "cell_type": "raw",
   "id": "05d36d9c",
   "metadata": {},
   "source": [
    "Consider the dna sequence, AGTTAGCTAGGAGGTTAG\n",
    "How many nucleotides are present?\n",
    "Calculate the percentage GC in the sequence.(Try to round the result till 2 decimal places)\n",
    "How many purines are present?\n",
    "How many pyrimidines are present?\n",
    "Calculate the percentage of purines in the sequence"
   ]
  },
  {
   "cell_type": "code",
   "execution_count": 41,
   "id": "3050c13c",
   "metadata": {},
   "outputs": [
    {
     "name": "stdout",
     "output_type": "stream",
     "text": [
      "13\n",
      "5\n",
      "1\n",
      "38.46153846153847\n",
      "7.6923076923076925\n",
      "46.15384615384616\n"
     ]
    }
   ],
   "source": [
    "DNA ='AGTTAGCTAGGAG'\n",
    "sequence = len (DNA) \n",
    "print (sequence)\n",
    "G = DNA.count ('G')\n",
    "print (G)\n",
    "C = DNA.count ('C')\n",
    "print (C)\n",
    "per_of_G = G/sequence*100\n",
    "print (per_of_G) \n",
    "per_of_C = C/sequence*100\n",
    "print (per_of_C)\n",
    "per_of_GC = per_of_G+per_of_C\n",
    "print(per_of_GC) \n"
   ]
  },
  {
   "cell_type": "code",
   "execution_count": null,
   "id": "d556449a",
   "metadata": {},
   "outputs": [],
   "source": []
  }
 ],
 "metadata": {
  "kernelspec": {
   "display_name": "Python 3",
   "language": "python",
   "name": "python3"
  },
  "language_info": {
   "codemirror_mode": {
    "name": "ipython",
    "version": 3
   },
   "file_extension": ".py",
   "mimetype": "text/x-python",
   "name": "python",
   "nbconvert_exporter": "python",
   "pygments_lexer": "ipython3",
   "version": "3.8.8"
  }
 },
 "nbformat": 4,
 "nbformat_minor": 5
}
