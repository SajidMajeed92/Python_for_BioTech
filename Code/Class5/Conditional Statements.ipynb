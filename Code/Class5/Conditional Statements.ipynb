{
 "cells": [
  {
   "cell_type": "code",
   "execution_count": 1,
   "id": "e9477abe",
   "metadata": {},
   "outputs": [],
   "source": [
    "# if \n",
    "# if - else\n",
    "# elif \n",
    "# nested if"
   ]
  },
  {
   "cell_type": "code",
   "execution_count": 2,
   "id": "2722a803",
   "metadata": {},
   "outputs": [],
   "source": [
    "# if condition:\n",
    "    #statements"
   ]
  },
  {
   "cell_type": "code",
   "execution_count": 11,
   "id": "693be563",
   "metadata": {},
   "outputs": [
    {
     "name": "stdout",
     "output_type": "stream",
     "text": [
      "You failed the Quiz\n"
     ]
    }
   ],
   "source": [
    "# >,< ,==,>=,<=,!= ,not,and,or\n",
    "number=3 \n",
    "if number>5:\n",
    "    print(\"You passed the Quiz\")\n",
    "else:\n",
    "    print(\"You failed the Quiz\")"
   ]
  },
  {
   "cell_type": "code",
   "execution_count": 13,
   "id": "af773b0c",
   "metadata": {},
   "outputs": [
    {
     "name": "stdout",
     "output_type": "stream",
     "text": [
      "Enter your age:6\n",
      "You can't cast a Vote\n"
     ]
    }
   ],
   "source": [
    "age = int(input(\"Enter your age:\"))\n",
    "if age>18:\n",
    "    print(\"You can cast a Vote\")\n",
    "else:\n",
    "    print(\"You can't cast a Vote\")"
   ]
  },
  {
   "cell_type": "code",
   "execution_count": null,
   "id": "a5bcffc2",
   "metadata": {},
   "outputs": [],
   "source": [
    "# if user enter no > 0 (\"you entered a positive No\")\n",
    "# if user enter no == 0 (\"you entered a Zero \")\n",
    "# if user enter no < 0 (\"you entered a Negitive No\")"
   ]
  },
  {
   "cell_type": "code",
   "execution_count": 19,
   "id": "e976ddc1",
   "metadata": {},
   "outputs": [
    {
     "name": "stdout",
     "output_type": "stream",
     "text": [
      "Enter your Number:0\n",
      "you entered a Zero\n"
     ]
    }
   ],
   "source": [
    "number = int(input(\"Enter your Number:\"))\n",
    "if number>0:\n",
    "    print(\"you entered a positive No\")\n",
    "elif number == 0:\n",
    "    print(\"you entered a Zero\")\n",
    "else:\n",
    "    print(\"you entered a Negitive No\")"
   ]
  },
  {
   "cell_type": "code",
   "execution_count": null,
   "id": "1172d176",
   "metadata": {},
   "outputs": [],
   "source": [
    "ishandome='true'\n",
    "good_salary='true'\n",
    "\"you can marry to any super model\"\n",
    "ishandome='false'\n",
    "good_salary='true'\n",
    "\"you can marry to any beautiful model\"\n",
    "ishandome='true'\n",
    "good_salary='false'\n",
    "\"you can marry to girl\"\n",
    "ishandome='false'\n",
    "good_salary='false'\n",
    "\"Allah Malik ha\""
   ]
  },
  {
   "cell_type": "code",
   "execution_count": null,
   "id": "e35d5144",
   "metadata": {},
   "outputs": [],
   "source": [
    "ishandsome=input(\"Enter Handsome: \")\n",
    "good_salary=input(\"Enter good_salary: \")\n",
    "if ishandsome=='true' and good_salary == 'true':\n",
    "    print(\"you can marry to any super model\")\n",
    "elif ishandsome=='false' and good_salary == 'true':\n",
    "    print(\"you can marry to any beautiful model\")\n",
    "elif ishandsome=='true' and good_salary == 'false':\n",
    "    print(\"you can marry to a girl\")\n",
    "else:\n",
    "    print(\"Allah Malik ha\")"
   ]
  },
  {
   "cell_type": "code",
   "execution_count": null,
   "id": "c3913931",
   "metadata": {},
   "outputs": [],
   "source": []
  }
 ],
 "metadata": {
  "kernelspec": {
   "display_name": "Python 3",
   "language": "python",
   "name": "python3"
  },
  "language_info": {
   "codemirror_mode": {
    "name": "ipython",
    "version": 3
   },
   "file_extension": ".py",
   "mimetype": "text/x-python",
   "name": "python",
   "nbconvert_exporter": "python",
   "pygments_lexer": "ipython3",
   "version": "3.8.8"
  }
 },
 "nbformat": 4,
 "nbformat_minor": 5
}
