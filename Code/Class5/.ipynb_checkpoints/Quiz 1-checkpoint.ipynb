{
 "cells": [
  {
   "cell_type": "raw",
   "id": "315ea4d3",
   "metadata": {},
   "source": [
    "Consider the dna sequence, AGTTAGCTAGGAG\n",
    "\n",
    "How many nucleotides are present?\n",
    "Calculate the percentage GC in the sequence.(Try to round the result till 2 decimal places)\n",
    "How many purines are present?\n",
    "How many pyrimidines are present?\n",
    "Calculate the percentage of purines in the sequence"
   ]
  },
  {
   "cell_type": "raw",
   "id": "38dd2df2",
   "metadata": {},
   "source": [
    "Consider the dna sequence, AGTTAGCTAGGAGGCTAG\n",
    "\n",
    "How many nucleotides are present?\n",
    "Calculate the percentage GC in the sequence.(Try to round the result till 2 decimal places)\n",
    "How many purines are present?\n",
    "How many pyrimidines are present?\n",
    "Calculate the percentage of purines in the sequence"
   ]
  },
  {
   "cell_type": "code",
   "execution_count": null,
   "id": "cf78cc2a",
   "metadata": {},
   "outputs": [],
   "source": [
    "Consider the dna sequence, AGTTAGCTAGGAGGTTAG\n",
    "\n",
    "How many nucleotides are present?\n",
    "Calculate the percentage GC in the sequence.(Try to round the result till 2 decimal places)\n",
    "How many purines are present?\n",
    "How many pyrimidines are present?\n",
    "Calculate the percentage of purines in the sequence"
   ]
  }
 ],
 "metadata": {
  "kernelspec": {
   "display_name": "Python 3",
   "language": "python",
   "name": "python3"
  },
  "language_info": {
   "codemirror_mode": {
    "name": "ipython",
    "version": 3
   },
   "file_extension": ".py",
   "mimetype": "text/x-python",
   "name": "python",
   "nbconvert_exporter": "python",
   "pygments_lexer": "ipython3",
   "version": "3.8.8"
  }
 },
 "nbformat": 4,
 "nbformat_minor": 5
}
