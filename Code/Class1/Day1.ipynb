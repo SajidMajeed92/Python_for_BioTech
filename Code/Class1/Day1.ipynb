{
 "cells": [
  {
   "cell_type": "markdown",
   "id": "a58f9f1c-ae0d-4a6b-b70e-38327650c912",
   "metadata": {},
   "source": [
    "## Week1 Day2"
   ]
  },
  {
   "cell_type": "code",
   "execution_count": 1,
   "id": "5e0efbfd-8325-40b7-9dd0-ca3130be8558",
   "metadata": {},
   "outputs": [
    {
     "name": "stdout",
     "output_type": "stream",
     "text": [
      "Sajid Majeed\n"
     ]
    }
   ],
   "source": [
    "print('Sajid Majeed')"
   ]
  },
  {
   "cell_type": "code",
   "execution_count": 2,
   "id": "67d24de9-3c44-48b9-9358-7fb87ad9537e",
   "metadata": {},
   "outputs": [
    {
     "name": "stdout",
     "output_type": "stream",
     "text": [
      "Sajid Majeed\n"
     ]
    }
   ],
   "source": [
    "print(\"Sajid Majeed\")"
   ]
  },
  {
   "cell_type": "code",
   "execution_count": 3,
   "id": "328a661a-cdba-4716-b52d-737a62ea0bcb",
   "metadata": {},
   "outputs": [
    {
     "name": "stdout",
     "output_type": "stream",
     "text": [
      "<class 'str'>\n",
      "<class 'int'>\n",
      "<class 'float'>\n",
      "<class 'bool'>\n"
     ]
    }
   ],
   "source": [
    "# Data types Integer, Float , String , Boolean\n",
    "# type() function used to check variable data type\n",
    "name = \"Ned Academy\"\n",
    "print(type(name))\n",
    "age = 30\n",
    "print(type((age)))\n",
    "salary = 20.5\n",
    "print(type((salary)))\n",
    "is_job= True\n",
    "print(type((is_job)))"
   ]
  },
  {
   "cell_type": "code",
   "execution_count": 4,
   "id": "885feaf0-f958-4f2a-94ea-29757c9d6e13",
   "metadata": {},
   "outputs": [
    {
     "name": "stdout",
     "output_type": "stream",
     "text": [
      "<class 'str'>\n",
      "<class 'int'>\n",
      "<class 'float'>\n"
     ]
    }
   ],
   "source": [
    "# Type casting\n",
    "x = str(3)\n",
    "y = int(3.0)\n",
    "z = float(3)\n",
    "print(type(x))\n",
    "print(type(y))\n",
    "print(type(z))"
   ]
  },
  {
   "cell_type": "code",
   "execution_count": 5,
   "id": "c0c57b66-5bfc-40a9-93fb-4769a951bdd5",
   "metadata": {},
   "outputs": [],
   "source": [
    "# variable decleration not started from any number\n",
    "# firstName \n",
    "# FirstName\n",
    "# _First_Name\n",
    "# firstname"
   ]
  },
  {
   "cell_type": "code",
   "execution_count": 27,
   "id": "da2b6226-8a87-4783-9817-11decbc18990",
   "metadata": {},
   "outputs": [],
   "source": [
    "# Assignment Solution\n",
    "first_name = \"Sajid\"\n",
    "last_name = \"Majeed\"\n",
    "age = 24\n",
    "gender = \"Male\"\n",
    "designation = \"Lecturer\"\n",
    "organization = \"NED\"\n",
    "cgpa = 3.9\n",
    "is_working = True"
   ]
  },
  {
   "cell_type": "code",
   "execution_count": 34,
   "id": "00522e5f-b152-45f3-8d80-76be47ccd57a",
   "metadata": {},
   "outputs": [
    {
     "name": "stdout",
     "output_type": "stream",
     "text": [
      "=================================================\n",
      "\t\t  My Profile\n",
      "=================================================\n",
      "Name:\t\t Sajid Majeed\n",
      "Gender:\t\t Male\n",
      "Age:\t\t 24\n",
      "Designation:\t Lecturer\n",
      "Organization:\t NED\n",
      "Is Working:\t True\n",
      "CGPA:\t\t 3.9\n",
      "=================================================\n"
     ]
    }
   ],
   "source": [
    "# printing all variable \n",
    "print(\"=================================================\")\n",
    "print(\"\\t\\t  My Profile\")\n",
    "print(\"=================================================\")\n",
    "print(\"Name:\\t\\t\",first_name +' '+last_name)\n",
    "print(\"Gender:\\t\\t\" ,gender)\n",
    "print(\"Age:\\t\\t\" ,age)\n",
    "print(\"Designation:\\t\" ,designation)\n",
    "print(\"Organization:\\t\" ,organization)\n",
    "print(\"Is Working:\\t\" ,is_working)\n",
    "print(\"CGPA:\\t\\t\",cgpa)\n",
    "print(\"=================================================\")"
   ]
  },
  {
   "cell_type": "code",
   "execution_count": 35,
   "id": "af7f4447-d2e8-4945-9999-4d007ca0b025",
   "metadata": {},
   "outputs": [],
   "source": [
    "x=4\n",
    "y=4\n",
    "z=4"
   ]
  },
  {
   "cell_type": "code",
   "execution_count": 39,
   "id": "be45c762-5b45-4e5c-98ae-ef72aefdf3b1",
   "metadata": {},
   "outputs": [
    {
     "name": "stdout",
     "output_type": "stream",
     "text": [
      "4\n",
      "4\n",
      "4\n"
     ]
    }
   ],
   "source": [
    "# one value to multiple variables \n",
    "x = y = z = 4\n",
    "print(x)\n",
    "print(y)\n",
    "print(z)"
   ]
  },
  {
   "cell_type": "code",
   "execution_count": 44,
   "id": "95156fa9-0081-4c7b-960d-2737317a24ac",
   "metadata": {},
   "outputs": [
    {
     "name": "stdout",
     "output_type": "stream",
     "text": [
      "4\n",
      "5\n",
      "6\n"
     ]
    }
   ],
   "source": [
    "# multiple values to multiple variables \n",
    "x , y , z = 4,5,6\n",
    "print(x)\n",
    "print(y)\n",
    "print(z)"
   ]
  },
  {
   "cell_type": "markdown",
   "id": "c5b6effb-ab80-4b10-adc3-eda770c51489",
   "metadata": {},
   "source": [
    "## Dynamic Program"
   ]
  },
  {
   "cell_type": "code",
   "execution_count": 47,
   "id": "8c432b31-7d1d-4c29-afe8-2059d4377cf7",
   "metadata": {},
   "outputs": [
    {
     "name": "stdin",
     "output_type": "stream",
     "text": [
      "Enter your Name: Zeeshan\n"
     ]
    },
    {
     "name": "stdout",
     "output_type": "stream",
     "text": [
      "Name: Zeeshan\n"
     ]
    }
   ],
   "source": [
    "# taking input from a user\n",
    "name = input(\"Enter your Name:\")\n",
    "print(\"Name:\",name) "
   ]
  },
  {
   "cell_type": "code",
   "execution_count": 48,
   "id": "5eb04a5a-6c99-40e3-ab1f-705c556fec3e",
   "metadata": {},
   "outputs": [
    {
     "name": "stdout",
     "output_type": "stream",
     "text": [
      "<class 'str'>\n"
     ]
    }
   ],
   "source": [
    "print(type(name))"
   ]
  },
  {
   "cell_type": "code",
   "execution_count": 54,
   "id": "47210cb5-8d57-4f96-ad9c-430983d76e3d",
   "metadata": {},
   "outputs": [
    {
     "name": "stdin",
     "output_type": "stream",
     "text": [
      "Enter your Age: 30\n"
     ]
    },
    {
     "name": "stdout",
     "output_type": "stream",
     "text": [
      "Age: 30\n"
     ]
    }
   ],
   "source": [
    "age = input(\"Enter your Age:\")\n",
    "print(\"Age:\",age)"
   ]
  },
  {
   "cell_type": "code",
   "execution_count": 55,
   "id": "c291a381-3da6-49d4-b357-919d70e87697",
   "metadata": {},
   "outputs": [
    {
     "name": "stdout",
     "output_type": "stream",
     "text": [
      "<class 'str'>\n"
     ]
    }
   ],
   "source": [
    "print(type(age))"
   ]
  },
  {
   "cell_type": "code",
   "execution_count": 61,
   "id": "45083c4e-ed04-4100-a654-def6ff4128c3",
   "metadata": {},
   "outputs": [
    {
     "name": "stdin",
     "output_type": "stream",
     "text": [
      "Enter your Age: 30\n"
     ]
    },
    {
     "name": "stdout",
     "output_type": "stream",
     "text": [
      "Age: 30.0\n",
      "<class 'float'>\n"
     ]
    }
   ],
   "source": [
    "age = float(input(\"Enter your Age:\"))\n",
    "print(\"Age:\",age)\n",
    "print(type(age))"
   ]
  },
  {
   "cell_type": "code",
   "execution_count": 66,
   "id": "213c8be7-05d5-4d68-8ce2-2bb33b630092",
   "metadata": {},
   "outputs": [
    {
     "name": "stdin",
     "output_type": "stream",
     "text": [
      "Enter your Number 56\n",
      "Enter your Number 78\n"
     ]
    },
    {
     "name": "stdout",
     "output_type": "stream",
     "text": [
      "The Sum of two number is 134.0\n"
     ]
    }
   ],
   "source": [
    "number1= float(input(\"Enter your Number\"))\n",
    "number2= float(input(\"Enter your Number\"))\n",
    "add = number2+number1\n",
    "print(\"The Sum of two number is\",add)"
   ]
  },
  {
   "cell_type": "code",
   "execution_count": 67,
   "id": "8d639fb3-9725-4448-99fd-21e5e59c81ca",
   "metadata": {},
   "outputs": [
    {
     "name": "stdout",
     "output_type": "stream",
     "text": [
      "we are learning python\n"
     ]
    }
   ],
   "source": [
    "txt = \"we are learning python\"\n",
    "print(txt)"
   ]
  },
  {
   "cell_type": "code",
   "execution_count": 68,
   "id": "39cb38cf-526b-4e57-9460-0ec4fbc07adb",
   "metadata": {},
   "outputs": [
    {
     "data": {
      "text/plain": [
       "'WE ARE LEARNING PYTHON'"
      ]
     },
     "execution_count": 68,
     "metadata": {},
     "output_type": "execute_result"
    }
   ],
   "source": [
    "txt.upper()"
   ]
  },
  {
   "cell_type": "code",
   "execution_count": 69,
   "id": "3ad8d40e-b5a6-4e06-bf2f-6b4d9d4cdd23",
   "metadata": {},
   "outputs": [
    {
     "data": {
      "text/plain": [
       "'we are learning python'"
      ]
     },
     "execution_count": 69,
     "metadata": {},
     "output_type": "execute_result"
    }
   ],
   "source": [
    "txt1='WE ARE LEARNING PYTHON'\n",
    "txt1.lower()"
   ]
  },
  {
   "cell_type": "code",
   "execution_count": null,
   "id": "c1c73164-3118-4b9e-a3de-0b69966b2a1b",
   "metadata": {},
   "outputs": [],
   "source": [
    "# Arithmatic operator (==,+,-,*)"
   ]
  }
 ],
 "metadata": {
  "kernelspec": {
   "display_name": "Python 3",
   "language": "python",
   "name": "python3"
  },
  "language_info": {
   "codemirror_mode": {
    "name": "ipython",
    "version": 3
   },
   "file_extension": ".py",
   "mimetype": "text/x-python",
   "name": "python",
   "nbconvert_exporter": "python",
   "pygments_lexer": "ipython3",
   "version": "3.8.8"
  }
 },
 "nbformat": 4,
 "nbformat_minor": 5
}
