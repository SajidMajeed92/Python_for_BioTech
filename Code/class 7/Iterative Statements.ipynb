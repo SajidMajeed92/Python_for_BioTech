{
 "cells": [
  {
   "cell_type": "code",
   "execution_count": 2,
   "id": "06f5231c",
   "metadata": {},
   "outputs": [
    {
     "name": "stdout",
     "output_type": "stream",
     "text": [
      "Hello world\n",
      "Hello world\n",
      "Hello world\n",
      "Hello world\n",
      "Hello world\n"
     ]
    }
   ],
   "source": [
    "print(\"Hello world\")\n",
    "print(\"Hello world\")\n",
    "print(\"Hello world\")\n",
    "print(\"Hello world\")\n",
    "print(\"Hello world\")"
   ]
  },
  {
   "cell_type": "code",
   "execution_count": 3,
   "id": "7c43d066",
   "metadata": {},
   "outputs": [],
   "source": [
    "# Loops for , while\n",
    "# for iterator in iterable:\n",
    "# statement"
   ]
  },
  {
   "cell_type": "code",
   "execution_count": 11,
   "id": "0bda34b7",
   "metadata": {},
   "outputs": [
    {
     "name": "stdout",
     "output_type": "stream",
     "text": [
      "1\n",
      "3\n",
      "5\n",
      "7\n",
      "9\n",
      "outside from the body of a loop\n"
     ]
    }
   ],
   "source": [
    "for num in range(1,11,2):\n",
    "    print(num)\n",
    "    \n",
    "print(\"outside from the body of a loop\")"
   ]
  },
  {
   "cell_type": "code",
   "execution_count": 15,
   "id": "000b5a40",
   "metadata": {},
   "outputs": [
    {
     "name": "stdout",
     "output_type": "stream",
     "text": [
      "1\n",
      "3\n",
      "6\n",
      "10\n",
      "15\n",
      "21\n",
      "28\n",
      "36\n",
      "45\n",
      "55\n",
      "55\n"
     ]
    }
   ],
   "source": [
    "sum = 0 \n",
    "for num in range(1,11):\n",
    "    sum=sum+num\n",
    "    print(sum)\n",
    "print(sum)"
   ]
  },
  {
   "cell_type": "code",
   "execution_count": 16,
   "id": "827d8ea1",
   "metadata": {},
   "outputs": [
    {
     "name": "stdout",
     "output_type": "stream",
     "text": [
      "55\n"
     ]
    }
   ],
   "source": [
    "sum = 0 \n",
    "for num in range(1,11):\n",
    "    sum=sum+num\n",
    "print(sum)"
   ]
  },
  {
   "cell_type": "code",
   "execution_count": 18,
   "id": "ff9af12f",
   "metadata": {},
   "outputs": [
    {
     "name": "stdout",
     "output_type": "stream",
     "text": [
      "3628800\n"
     ]
    }
   ],
   "source": [
    "product = 1 \n",
    "for num in range(1,11):\n",
    "    product=product*num\n",
    "print(product)"
   ]
  },
  {
   "cell_type": "code",
   "execution_count": 23,
   "id": "4acbaf10",
   "metadata": {},
   "outputs": [
    {
     "name": "stdout",
     "output_type": "stream",
     "text": [
      "1 - Hello world\n",
      "2 - Hello world\n",
      "3 - Hello world\n",
      "4 - Hello world\n",
      "5 - Hello world\n",
      "6 - Hello world\n",
      "7 - Hello world\n",
      "8 - Hello world\n",
      "9 - Hello world\n",
      "10 - Hello world\n"
     ]
    }
   ],
   "source": [
    "for num in range(1,11):\n",
    "    print(num,\"-\",\"Hello world\")"
   ]
  },
  {
   "cell_type": "code",
   "execution_count": 28,
   "id": "09644c36",
   "metadata": {},
   "outputs": [
    {
     "name": "stdout",
     "output_type": "stream",
     "text": [
      "['Abdul waheed', 'Asma', 'Muqaddas']\n"
     ]
    }
   ],
   "source": [
    "student_list = [\"Abdul waheed\",\"Asma\",\"Muqaddas\"]\n",
    "print(student_list)"
   ]
  },
  {
   "cell_type": "code",
   "execution_count": 54,
   "id": "9418e7e3",
   "metadata": {},
   "outputs": [
    {
     "name": "stdout",
     "output_type": "stream",
     "text": [
      "1 Abdul waheed\n",
      "2 Asma\n",
      "3 Muqaddas\n"
     ]
    }
   ],
   "source": [
    "for num,student in enumerate(student_list,start=1):\n",
    "    print(num,student)"
   ]
  },
  {
   "cell_type": "code",
   "execution_count": 60,
   "id": "c50ea992",
   "metadata": {},
   "outputs": [
    {
     "name": "stdout",
     "output_type": "stream",
     "text": [
      "0 Abdul waheed\n",
      "1 Asma\n",
      "2 Muqaddas\n"
     ]
    }
   ],
   "source": [
    "for student in range(len(student_list)):\n",
    "    index = student_list[student]\n",
    "    print(student,index)"
   ]
  },
  {
   "cell_type": "code",
   "execution_count": 51,
   "id": "47c7e6af",
   "metadata": {},
   "outputs": [
    {
     "name": "stdout",
     "output_type": "stream",
     "text": [
      "P\n",
      "y\n",
      "t\n",
      "h\n",
      "o\n",
      "n\n"
     ]
    }
   ],
   "source": [
    "lang = 'Python'\n",
    "for char in lang:\n",
    "    print(char)"
   ]
  },
  {
   "cell_type": "code",
   "execution_count": 68,
   "id": "7ff8b938",
   "metadata": {},
   "outputs": [
    {
     "name": "stdout",
     "output_type": "stream",
     "text": [
      "Fruits in sample list ['apple', 'banana', 'cherry']\n",
      "Fruit in fruits list ['apple', 'banana', 'cherry']\n"
     ]
    }
   ],
   "source": [
    "sample = []\n",
    "fruits = ['apple','banana','cherry']\n",
    "for fruit in fruits:\n",
    "    sample.append(fruit)\n",
    "print(\"Fruits in sample list\",sample)\n",
    "print(\"Fruit in fruits list\",fruits)"
   ]
  },
  {
   "cell_type": "code",
   "execution_count": 73,
   "id": "fa8b99d0",
   "metadata": {},
   "outputs": [
    {
     "name": "stdout",
     "output_type": "stream",
     "text": [
      "[1, 3, 7, 9]\n",
      "[1, 9, 49, 81]\n"
     ]
    }
   ],
   "source": [
    "num_list = [1,3,7,9]\n",
    "sq_num = []\n",
    "for num in num_list:\n",
    "    sq_num.append(num**2)\n",
    "print(num_list)\n",
    "print(sq_num)"
   ]
  },
  {
   "cell_type": "code",
   "execution_count": null,
   "id": "8a9a0d34",
   "metadata": {},
   "outputs": [],
   "source": []
  }
 ],
 "metadata": {
  "kernelspec": {
   "display_name": "Python 3",
   "language": "python",
   "name": "python3"
  },
  "language_info": {
   "codemirror_mode": {
    "name": "ipython",
    "version": 3
   },
   "file_extension": ".py",
   "mimetype": "text/x-python",
   "name": "python",
   "nbconvert_exporter": "python",
   "pygments_lexer": "ipython3",
   "version": "3.8.8"
  }
 },
 "nbformat": 4,
 "nbformat_minor": 5
}
