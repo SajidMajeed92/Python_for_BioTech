{
 "cells": [
  {
   "cell_type": "code",
   "execution_count": 2,
   "id": "c3d06ea1",
   "metadata": {},
   "outputs": [
    {
     "name": "stdout",
     "output_type": "stream",
     "text": [
      "Hello world\n",
      "Hello world\n",
      "Hello world\n",
      "Hello world\n",
      "Hello world\n"
     ]
    }
   ],
   "source": [
    "print(\"Hello world\")\n",
    "print(\"Hello world\")\n",
    "print(\"Hello world\")\n",
    "print(\"Hello world\")\n",
    "print(\"Hello world\")"
   ]
  },
  {
   "cell_type": "code",
   "execution_count": 3,
   "id": "fe463a0b",
   "metadata": {},
   "outputs": [],
   "source": [
    "# Loops for , while\n",
    "# for iterator in iterable:\n",
    "# statement"
   ]
  },
  {
   "cell_type": "code",
   "execution_count": 11,
   "id": "4193a1c3",
   "metadata": {},
   "outputs": [
    {
     "name": "stdout",
     "output_type": "stream",
     "text": [
      "1\n",
      "3\n",
      "5\n",
      "7\n",
      "9\n",
      "outside from the body of a loop\n"
     ]
    }
   ],
   "source": [
    "for num in range(1,11,2):\n",
    "    print(num)\n",
    "    \n",
    "print(\"outside from the body of a loop\")"
   ]
  },
  {
   "cell_type": "code",
   "execution_count": 15,
   "id": "ccbf5ff8",
   "metadata": {},
   "outputs": [
    {
     "name": "stdout",
     "output_type": "stream",
     "text": [
      "1\n",
      "3\n",
      "6\n",
      "10\n",
      "15\n",
      "21\n",
      "28\n",
      "36\n",
      "45\n",
      "55\n",
      "55\n"
     ]
    }
   ],
   "source": [
    "sum = 0 \n",
    "for num in range(1,11):\n",
    "    sum=sum+num\n",
    "    print(sum)\n",
    "print(sum)"
   ]
  },
  {
   "cell_type": "code",
   "execution_count": 16,
   "id": "494f4046",
   "metadata": {},
   "outputs": [
    {
     "name": "stdout",
     "output_type": "stream",
     "text": [
      "55\n"
     ]
    }
   ],
   "source": [
    "sum = 0 \n",
    "for num in range(1,11):\n",
    "    sum=sum+num\n",
    "print(sum)"
   ]
  },
  {
   "cell_type": "code",
   "execution_count": 18,
   "id": "74060194",
   "metadata": {},
   "outputs": [
    {
     "name": "stdout",
     "output_type": "stream",
     "text": [
      "3628800\n"
     ]
    }
   ],
   "source": [
    "product = 1 \n",
    "for num in range(1,11):\n",
    "    product=product*num\n",
    "print(product)"
   ]
  },
  {
   "cell_type": "code",
   "execution_count": 23,
   "id": "a1110e23",
   "metadata": {},
   "outputs": [
    {
     "name": "stdout",
     "output_type": "stream",
     "text": [
      "1 - Hello world\n",
      "2 - Hello world\n",
      "3 - Hello world\n",
      "4 - Hello world\n",
      "5 - Hello world\n",
      "6 - Hello world\n",
      "7 - Hello world\n",
      "8 - Hello world\n",
      "9 - Hello world\n",
      "10 - Hello world\n"
     ]
    }
   ],
   "source": [
    "for num in range(1,11):\n",
    "    print(num,\"-\",\"Hello world\")"
   ]
  },
  {
   "cell_type": "code",
   "execution_count": 28,
   "id": "d6439f91",
   "metadata": {},
   "outputs": [
    {
     "name": "stdout",
     "output_type": "stream",
     "text": [
      "['Abdul waheed', 'Asma', 'Muqaddas']\n"
     ]
    }
   ],
   "source": [
    "student_list = [\"Abdul waheed\",\"Asma\",\"Muqaddas\"]\n",
    "print(student_list)"
   ]
  },
  {
   "cell_type": "code",
   "execution_count": 54,
   "id": "90584f07",
   "metadata": {},
   "outputs": [
    {
     "name": "stdout",
     "output_type": "stream",
     "text": [
      "1 Abdul waheed\n",
      "2 Asma\n",
      "3 Muqaddas\n"
     ]
    }
   ],
   "source": [
    "for num,student in enumerate(student_list,start=1):\n",
    "    print(num,student)"
   ]
  },
  {
   "cell_type": "code",
   "execution_count": 60,
   "id": "f9031c0b",
   "metadata": {},
   "outputs": [
    {
     "name": "stdout",
     "output_type": "stream",
     "text": [
      "0 Abdul waheed\n",
      "1 Asma\n",
      "2 Muqaddas\n"
     ]
    }
   ],
   "source": [
    "for student in range(len(student_list)):\n",
    "    index = student_list[student]\n",
    "    print(student,index)"
   ]
  },
  {
   "cell_type": "code",
   "execution_count": 51,
   "id": "39590a08",
   "metadata": {},
   "outputs": [
    {
     "name": "stdout",
     "output_type": "stream",
     "text": [
      "P\n",
      "y\n",
      "t\n",
      "h\n",
      "o\n",
      "n\n"
     ]
    }
   ],
   "source": [
    "lang = 'Python'\n",
    "for char in lang:\n",
    "    print(char)"
   ]
  },
  {
   "cell_type": "code",
   "execution_count": 68,
   "id": "b9c2ae4d",
   "metadata": {},
   "outputs": [
    {
     "name": "stdout",
     "output_type": "stream",
     "text": [
      "Fruits in sample list ['apple', 'banana', 'cherry']\n",
      "Fruit in fruits list ['apple', 'banana', 'cherry']\n"
     ]
    }
   ],
   "source": [
    "sample = []\n",
    "fruits = ['apple','banana','cherry']\n",
    "for fruit in fruits:\n",
    "    sample.append(fruit)\n",
    "print(\"Fruits in sample list\",sample)\n",
    "print(\"Fruit in fruits list\",fruits)"
   ]
  },
  {
   "cell_type": "code",
   "execution_count": null,
   "id": "2db03f52",
   "metadata": {},
   "outputs": [],
   "source": [
    "num_list = [1,3,7,9]\n",
    "sq_num = []\n",
    "for num in num_list:\n",
    "    sq_num.apped(num)"
   ]
  }
 ],
 "metadata": {
  "kernelspec": {
   "display_name": "Python 3",
   "language": "python",
   "name": "python3"
  },
  "language_info": {
   "codemirror_mode": {
    "name": "ipython",
    "version": 3
   },
   "file_extension": ".py",
   "mimetype": "text/x-python",
   "name": "python",
   "nbconvert_exporter": "python",
   "pygments_lexer": "ipython3",
   "version": "3.8.8"
  }
 },
 "nbformat": 4,
 "nbformat_minor": 5
}
